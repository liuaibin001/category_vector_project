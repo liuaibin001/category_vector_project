{
 "cells": [
  {
   "cell_type": "markdown",
   "metadata": {},
   "source": [
    "# CategoryVector 演示\n",
    "\n",
    "这个笔记本演示了 CategoryVector 项目的核心功能，包括：\n",
    "1. 加载类别数据\n",
    "2. 构建向量索引\n",
    "3. 执行搜索查询\n",
    "\n",
    "通过这个笔记本，您可以直观地了解整个工作流程，并查看详细的中间结果。"
   ]
  },
  {
   "cell_type": "markdown",
   "metadata": {},
   "source": [
    "## 1. 环境设置\n",
    "\n",
    "首先导入必要的模块并设置日志级别"
   ]
  },
  {
   "cell_type": "code",
   "execution_count": null,
   "metadata": {},
   "outputs": [],
   "source": [
    "import os\n",
    "import sys\n",
    "import json\n",
    "import time\n",
    "import numpy as np\n",
    "from pathlib import Path\n",
    "from IPython.display import display, HTML\n",
    "import pandas as pd\n",
    "import matplotlib.pyplot as plt\n",
    "\n",
    "# 确保可以导入项目模块\n",
    "project_root = Path().absolute().parent\n",
    "if str(project_root) not in sys.path:\n",
    "    sys.path.append(str(project_root))\n",
    "\n",
    "# 导入项目模块\n",
    "from src.categoryvector.config import CategoryVectorConfig\n",
    "from src.categoryvector.data_processing import CategoryProcessor\n",
    "from src.categoryvector.vector_generation import VectorGenerator\n",
    "from src.categoryvector.vector_storage import VectorStorage\n",
    "from src.categoryvector.utils.logging_utils import setup_logger\n",
    "from src.categoryvector.models import Category\n",
    "\n",
    "# 设置日志\n",
    "logger = setup_logger(\"categoryvector_demo\", level=\"INFO\")"
   ]
  },
  {
   "cell_type": "markdown",
   "metadata": {},
   "source": [
    "## 2. 配置参数\n",
    "\n",
    "设置项目参数，包括数据路径、模型名称等"
   ]
  },
  {
   "cell_type": "code",
   "execution_count": null,
   "metadata": {},
   "outputs": [],
   "source": [
    "# 数据和输出路径\n",
    "DATA_DIR = project_root / \"data\"\n",
    "CATEGORIES_FILE = DATA_DIR / \"categories.json\"\n",
    "OUTPUT_DIR = DATA_DIR / \"vectors\"\n",
    "\n",
    "# 如果没有示例数据，使用示例数据\n",
    "if not CATEGORIES_FILE.exists():\n",
    "    CATEGORIES_FILE = DATA_DIR / \"sample_categories.json\"\n",
    "    print(f\"使用示例数据: {CATEGORIES_FILE}\")\n",
    "\n",
    "# 确保输出目录存在\n",
    "OUTPUT_DIR.mkdir(parents=True, exist_ok=True)\n",
    "\n",
    "# 模型参数\n",
    "MODEL_NAME = \"sentence-transformers/paraphrase-multilingual-MiniLM-L12-v2\"\n",
    "VECTOR_DIM = 384\n",
    "\n",
    "print(f\"类别数据文件: {CATEGORIES_FILE}\")\n",
    "print(f\"输出目录: {OUTPUT_DIR}\")\n",
    "print(f\"模型名称: {MODEL_NAME}\")\n",
    "print(f\"向量维度: {VECTOR_DIM}\")"
   ]
  },
  {
   "cell_type": "markdown",
   "metadata": {},
   "source": [
    "## 3. 加载类别数据\n",
    "\n",
    "从JSON文件中加载商品分类数据"
   ]
  },
  {
   "cell_type": "code",
   "execution_count": null,
   "metadata": {},
   "outputs": [],
   "source": [
    "# 创建配置\n",
    "config = CategoryVectorConfig(\n",
    "    model_name=MODEL_NAME,\n",
    "    data_dir=DATA_DIR,\n",
    "    vector_dim=VECTOR_DIM,\n",
    "    log_level=\"INFO\"\n",
    ")\n",
    "\n",
    "# 加载类别数据\n",
    "print(f\"开始加载类别数据...\")\n",
    "start_time = time.time()\n",
    "processor = CategoryProcessor(config)\n",
    "processor.load_from_json(CATEGORIES_FILE)\n",
    "load_time = time.time() - start_time\n",
    "\n",
    "print(f\"加载完成，共 {len(processor.categories)} 个类别，耗时 {load_time:.2f} 秒\")\n",
    "\n",
    "# 显示类别样例\n",
    "sample_size = min(5, len(processor.categories))\n",
    "sample_categories = list(processor.categories.values())[:sample_size]\n",
    "\n",
    "sample_data = []\n",
    "for cat in sample_categories:\n",
    "    sample_data.append({\n",
    "        \"ID\": cat.id,\n",
    "        \"路径\": cat.path,\n",
    "        \"层级\": cat.level_depth,\n",
    "        \"描述\": cat.description[:50] + '...' if cat.description and len(cat.description) > 50 else cat.description\n",
    "    })\n",
    "\n",
    "display(pd.DataFrame(sample_data))"
   ]
  },
  {
   "cell_type": "markdown",
   "metadata": {},
   "source": [
    "## 4. 构建向量索引\n",
    "\n",
    "生成类别向量并构建FAISS索引"
   ]
  },
  {
   "cell_type": "code",
   "execution_count": null,
   "metadata": {},
   "outputs": [],
   "source": [
    "# 4.1 初始化向量生成器\n",
    "print(f\"开始加载模型 {MODEL_NAME}...\")\n",
    "start_time = time.time()\n",
    "generator = VectorGenerator(model_name=MODEL_NAME, config=config)\n",
    "model_load_time = time.time() - start_time\n",
    "print(f\"模型加载完成，耗时 {model_load_time:.2f} 秒\")\n",
    "\n",
    "# 4.2 为类别生成向量\n",
    "print(f\"\\n开始为 {len(processor.categories)} 个类别生成向量...\")\n",
    "vector_start_time = time.time()\n",
    "processed_count = 0\n",
    "\n",
    "# 进度条更新函数\n",
    "def update_progress(current, total, bar_length=50):\n",
    "    progress = min(1.0, current/total)\n",
    "    arrow = '=' * int(round(progress * bar_length))\n",
    "    spaces = ' ' * (bar_length - len(arrow))\n",
    "    sys.stdout.write(f\"\\r进度: [{arrow + spaces}] {int(progress * 100)}% ({current}/{total})\")\n",
    "    sys.stdout.flush()\n",
    "\n",
    "for cat_id, category in processor.categories.items():\n",
    "    category = generator.enrich_category_vectors(category)\n",
    "    processed_count += 1\n",
    "    if processed_count % 5 == 0 or processed_count == len(processor.categories):\n",
    "        update_progress(processed_count, len(processor.categories))\n",
    "\n",
    "vector_time = time.time() - vector_start_time\n",
    "print(f\"\\n向量生成完成，共处理 {processed_count} 个类别，耗时 {vector_time:.2f} 秒\")\n",
    "\n",
    "# 4.3 构建索引\n",
    "print(f\"\\n开始构建FAISS索引...\")\n",
    "index_start_time = time.time()\n",
    "storage = VectorStorage(\n",
    "    dimension=generator.model.get_sentence_embedding_dimension(),\n",
    "    config=config\n",
    ")\n",
    "\n",
    "# 添加类别到索引\n",
    "for cat_id, category in processor.categories.items():\n",
    "    storage.add_category(category)\n",
    "    \n",
    "index_time = time.time() - index_start_time\n",
    "print(f\"索引构建完成，包含 {storage.index.ntotal} 个向量，耗时 {index_time:.2f} 秒\")\n",
    "\n",
    "# 4.4 保存索引\n",
    "print(f\"\\n开始保存索引到 {OUTPUT_DIR}...\")\n",
    "save_start_time = time.time()\n",
    "storage.save(OUTPUT_DIR)\n",
    "save_time = time.time() - save_start_time\n",
    "\n",
    "# 获取文件大小\n",
    "index_file_size = (OUTPUT_DIR / \"index.faiss\").stat().st_size / (1024 * 1024)\n",
    "categories_file_size = (OUTPUT_DIR / \"categories.json\").stat().st_size / (1024 * 1024)\n",
    "\n",
    "print(f\"索引保存完成，耗时 {save_time:.2f} 秒\")\n",
    "print(f\"FAISS索引文件大小: {index_file_size:.2f} MB\")\n",
    "print(f\"类别数据文件大小: {categories_file_size:.2f} MB\")\n",
    "\n",
    "# 4.5 显示总体构建统计信息\n",
    "total_build_time = model_load_time + vector_time + index_time + save_time\n",
    "print(f\"\\n索引构建总耗时: {total_build_time:.2f} 秒\")\n",
    "\n",
    "# 构建过程时间分布图\n",
    "times = [\n",
    "    ('模型加载', model_load_time),\n",
    "    ('向量生成', vector_time),\n",
    "    ('索引构建', index_time),\n",
    "    ('索引保存', save_time)\n",
    "]\n",
    "\n",
    "plt.figure(figsize=(10, 6))\n",
    "plt.bar([t[0] for t in times], [t[1] for t in times], color='skyblue')\n",
    "plt.title('构建过程耗时分布 (秒)')\n",
    "plt.xlabel('步骤')\n",
    "plt.ylabel('耗时 (秒)')\n",
    "for i, (_, t) in enumerate(times):\n",
    "    plt.text(i, t + 0.1, f\"{t:.2f}s\", ha='center')\n",
    "plt.tight_layout()\n",
    "plt.show()"
   ]
  },
  {
   "cell_type": "markdown",
   "metadata": {},
   "source": [
    "## 5. 执行搜索查询\n",
    "\n",
    "使用构建好的索引执行各种搜索查询"
   ]
  },
  {
   "cell_type": "code",
   "execution_count": null,
   "metadata": {},
   "outputs": [],
   "source": [
    "# 5.1 准备搜索环境\n",
    "def perform_search(query, level=None, top_k=5, threshold=0.5, exclusions=None):\n",
    "    \"\"\"执行搜索并格式化显示结果\"\"\"\n",
    "    print(f\"\\n搜索查询: '{query}'\")\n",
    "    if level:\n",
    "        print(f\"层级限制: {level}\")\n",
    "    if exclusions:\n",
    "        print(f\"排除词: {', '.join(exclusions)}\")\n",
    "    print(f\"参数: top_k={top_k}, threshold={threshold}\")\n",
    "    print(\"-\" * 80)\n",
    "    \n",
    "    # 生成查询向量\n",
    "    query_vector = generator.generate_query_vector(query)\n",
    "    \n",
    "    # 处理排除词\n",
    "    exclusion_vector = None\n",
    "    if exclusions:\n",
    "        exclusion_vector = generator.generate_exclusion_vector(exclusions)\n",
    "    \n",
    "    # 执行搜索\n",
    "    start_time = time.time()\n",
    "    if level:\n",
    "        # 这里假设 search_by_level 方法已经支持 exclusion_vector\n",
    "        # 如果不支持，您需要修改搜索逻辑\n",
    "        if exclusion_vector is not None:\n",
    "            # 调整查询向量\n",
    "            query_vector = query_vector - 0.2 * exclusion_vector\n",
    "        results = storage.search_by_level(query_vector, level=level, top_k=top_k, threshold=threshold)\n",
    "    else:\n",
    "        if exclusion_vector is not None:\n",
    "            # 调整查询向量\n",
    "            query_vector = query_vector - 0.2 * exclusion_vector\n",
    "        results = storage.search(query_vector, top_k=top_k, threshold=threshold)\n",
    "    \n",
    "    search_time = time.time() - start_time\n",
    "    \n",
    "    # 显示结果\n",
    "    print(f\"找到 {len(results)} 个结果 (耗时 {search_time:.4f} 秒)\")\n",
    "    \n",
    "    if results:\n",
    "        result_data = []\n",
    "        for i, (category, score) in enumerate(results):\n",
    "            result_data.append({\n",
    "                \"排名\": i+1,\n",
    "                \"ID\": category.id,\n",
    "                \"相似度\": f\"{score:.4f}\",\n",
    "                \"路径\": category.path,\n",
    "                \"描述\": category.description[:50] + '...' if category.description and len(category.description) > 50 else category.description\n",
    "            })\n",
    "        \n",
    "        return pd.DataFrame(result_data)\n",
    "    else:\n",
    "        print(\"没有找到匹配的结果\")\n",
    "        return None"
   ]
  },
  {
   "cell_type": "markdown",
   "metadata": {},
   "source": [
    "### 5.2 基本搜索示例"
   ]
  },
  {
   "cell_type": "code",
   "execution_count": null,
   "metadata": {},
   "outputs": [],
   "source": [
    "# 基本搜索 - 电子产品\n",
    "results_df = perform_search(query=\"电子产品\", top_k=5, threshold=0.3)\n",
    "if results_df is not None:\n",
    "    display(results_df)"
   ]
  },
  {
   "cell_type": "markdown",
   "metadata": {},
   "source": [
    "### 5.3 层级搜索示例"
   ]
  },
  {
   "cell_type": "code",
   "execution_count": null,
   "metadata": {},
   "outputs": [],
   "source": [
    "# 按层级搜索 - 找第二层级的手机相关分类\n",
    "results_df = perform_search(query=\"手机\", level=2, top_k=3, threshold=0.3)\n",
    "if results_df is not None:\n",
    "    display(results_df)"
   ]
  },
  {
   "cell_type": "markdown",
   "metadata": {},
   "source": [
    "### 5.4 使用排除词的搜索示例"
   ]
  },
  {
   "cell_type": "code",
   "execution_count": null,
   "metadata": {},
   "outputs": [],
   "source": [
    "# 带排除词的搜索 - 电脑，但排除笔记本\n",
    "results_df = perform_search(query=\"电脑\", exclusions=[\"笔记本\"], top_k=5, threshold=0.3)\n",
    "if results_df is not None:\n",
    "    display(results_df)"
   ]
  },
  {
   "cell_type": "markdown",
   "metadata": {},
   "source": [
    "### 5.5 多语言搜索示例"
   ]
  },
  {
   "cell_type": "code",
   "execution_count": null,
   "metadata": {},
   "outputs": [],
   "source": [
    "# 多语言搜索 - 使用英文查询\n",
    "results_df = perform_search(query=\"Mobile Phone\", top_k=3, threshold=0.3)\n",
    "if results_df is not None:\n",
    "    display(results_df)"
   ]
  },
  {
   "cell_type": "markdown",
   "metadata": {},
   "source": [
    "### 5.6 自定义查询示例\n",
    "\n",
    "您可以在下面尝试自己的查询"
   ]
  },
  {
   "cell_type": "code",
   "execution_count": null,
   "metadata": {},
   "outputs": [],
   "source": [
    "# 自定义查询\n",
    "custom_query = \"智能手机\" # 修改为您想要的查询\n",
    "custom_level = None      # 设置为数字以限制层级，如1、2、3\n",
    "custom_exclusions = []   # 添加排除词，如 [\"配件\", \"充电器\"]\n",
    "\n",
    "results_df = perform_search(\n",
    "    query=custom_query, \n",
    "    level=custom_level, \n",
    "    exclusions=custom_exclusions if custom_exclusions else None,\n",
    "    top_k=5, \n",
    "    threshold=0.3\n",
    ")\n",
    "if results_df is not None:\n",
    "    display(results_df)"
   ]
  },
  {
   "cell_type": "markdown",
   "metadata": {},
   "source": [
    "## 6. 结果分析与可视化"
   ]
  },
  {
   "cell_type": "code",
   "execution_count": null,
   "metadata": {},
   "outputs": [],
   "source": [
    "# 6.1 执行多个查询并比较结果\n",
    "print(\"执行多个查询并比较结果...\")\n",
    "queries = [\"手机\", \"智能手机\", \"手机配件\", \"电脑\"]\n",
    "query_results = {}\n",
    "\n",
    "for query in queries:\n",
    "    query_vector = generator.generate_query_vector(query)\n",
    "    results = storage.search(query_vector, top_k=3, threshold=0.2)\n",
    "    query_results[query] = [(cat.path, score) for cat, score in results]\n",
    "\n",
    "# 创建对比表格\n",
    "comparison_data = []\n",
    "for query, results in query_results.items():\n",
    "    for i, (path, score) in enumerate(results):\n",
    "        comparison_data.append({\n",
    "            \"查询\": query,\n",
    "            \"排名\": i+1,\n",
    "            \"分类路径\": path,\n",
    "            \"相似度\": score\n",
    "        })\n",
    "\n",
    "# 显示对比表格\n",
    "comparison_df = pd.DataFrame(comparison_data)\n",
    "display(comparison_df)\n",
    "\n",
    "# 6.2 查询相似度可视化\n",
    "plt.figure(figsize=(12, 6))\n",
    "for query in queries:\n",
    "    scores = [r[1] for r in query_results[query]]\n",
    "    plt.plot(range(1, len(scores)+1), scores, marker='o', label=query)\n",
    "\n",
    "plt.title('不同查询的结果相似度比较')\n",
    "plt.xlabel('结果排名')\n",
    "plt.ylabel('相似度')\n",
    "plt.legend()\n",
    "plt.grid(True, linestyle='--', alpha=0.7)\n",
    "plt.ylim(0, 1.0)\n",
    "plt.show()"
   ]
  },
  {
   "cell_type": "markdown",
   "metadata": {},
   "source": [
    "## 7. 总结与结论\n",
    "\n",
    "在这个笔记本中，我们完成了以下任务：\n",
    "\n",
    "1. 加载了类别数据\n",
    "2. 使用预训练模型生成了类别向量\n",
    "3. 构建并保存了FAISS向量索引\n",
    "4. 执行了多种不同类型的搜索查询\n",
    "5. 分析和可视化了搜索结果\n",
    "\n",
    "通过这个演示，我们可以看到基于向量的商品分类搜索系统如何工作，以及如何通过不同的参数和排除词来调整搜索结果。这种方法特别适合处理模糊匹配和跨语言搜索的场景。"
   ]
  }
 ],
 "metadata": {
  "kernelspec": {
   "display_name": "Python 3",
   "language": "python",
   "name": "python3"
  },
  "language_info": {
   "codemirror_mode": {
    "name": "ipython",
    "version": 3
   },
   "file_extension": ".py",
   "mimetype": "text/x-python",
   "name": "python",
   "nbconvert_exporter": "python",
   "pygments_lexer": "ipython3",
   "version": "3.8.10"
  }
 },
 "nbformat": 4,
 "nbformat_minor": 4
}